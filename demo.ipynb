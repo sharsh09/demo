{
  "nbformat": 4,
  "nbformat_minor": 0,
  "metadata": {
    "colab": {
      "provenance": [],
      "authorship_tag": "ABX9TyO1xgXFAJRLZJAzEIcscF0C",
      "include_colab_link": true
    },
    "kernelspec": {
      "name": "python3",
      "display_name": "Python 3"
    },
    "language_info": {
      "name": "python"
    }
  },
  "cells": [
    {
      "cell_type": "markdown",
      "metadata": {
        "id": "view-in-github",
        "colab_type": "text"
      },
      "source": [
        "<a href=\"https://colab.research.google.com/github/sharsh09/demo/blob/master/demo.ipynb\" target=\"_parent\"><img src=\"https://colab.research.google.com/assets/colab-badge.svg\" alt=\"Open In Colab\"/></a>"
      ]
    },
    {
      "cell_type": "code",
      "execution_count": 5,
      "metadata": {
        "colab": {
          "base_uri": "https://localhost:8080/"
        },
        "id": "jsnQYwkL4QsS",
        "outputId": "6c31ee2a-142e-4525-bf44-2ad96f45e603"
      },
      "outputs": [
        {
          "output_type": "stream",
          "name": "stdout",
          "text": [
            "Enter marks of five subjects:\n",
            "56\n",
            "89\n",
            "77\n",
            "94\n",
            "82\n",
            "Total marks =  398.0\n",
            "Percentage =  79.60000000000001\n"
          ]
        }
      ],
      "source": [
        "#Read marks of all five subjects\n",
        "print(\"Enter marks of five subjects:\")\n",
        "S1=float(input())\n",
        "S2=float(input())\n",
        "S3=float(input())\n",
        "S4=float(input())\n",
        "S5=float(input())\n",
        "\n",
        "#Calculate total and percentage.\n",
        "total = S1 + S2 + S3 + S4 + S5;\n",
        "percentage = (total / 500.0) * 100;\n",
        "\n",
        "#Print the result\n",
        "print(\"Total marks = \", total)\n",
        "print(\"Percentage = \", percentage)"
      ]
    }
  ]
}